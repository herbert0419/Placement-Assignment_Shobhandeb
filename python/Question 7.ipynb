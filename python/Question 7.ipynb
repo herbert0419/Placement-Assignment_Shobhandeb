{
 "cells": [
  {
   "cell_type": "code",
   "execution_count": 1,
   "id": "5349ca62",
   "metadata": {},
   "outputs": [],
   "source": [
    "import pandas as pd\n",
    "import matplotlib.pyplot as plt\n",
    "import seaborn as sns"
   ]
  },
  {
   "cell_type": "code",
   "execution_count": 2,
   "id": "3ed549ac",
   "metadata": {},
   "outputs": [],
   "source": [
    "df = pd.read_csv('meteorite_data.csv')"
   ]
  },
  {
   "cell_type": "code",
   "execution_count": 3,
   "id": "04f30c53",
   "metadata": {},
   "outputs": [
    {
     "data": {
      "text/html": [
       "<div>\n",
       "<style scoped>\n",
       "    .dataframe tbody tr th:only-of-type {\n",
       "        vertical-align: middle;\n",
       "    }\n",
       "\n",
       "    .dataframe tbody tr th {\n",
       "        vertical-align: top;\n",
       "    }\n",
       "\n",
       "    .dataframe thead th {\n",
       "        text-align: right;\n",
       "    }\n",
       "</style>\n",
       "<table border=\"1\" class=\"dataframe\">\n",
       "  <thead>\n",
       "    <tr style=\"text-align: right;\">\n",
       "      <th></th>\n",
       "      <th>name</th>\n",
       "      <th>id</th>\n",
       "      <th>nametype</th>\n",
       "      <th>recclass</th>\n",
       "      <th>mass</th>\n",
       "      <th>year</th>\n",
       "      <th>reclat</th>\n",
       "      <th>reclong</th>\n",
       "      <th>coordinates</th>\n",
       "    </tr>\n",
       "  </thead>\n",
       "  <tbody>\n",
       "    <tr>\n",
       "      <th>0</th>\n",
       "      <td>Aachen</td>\n",
       "      <td>1</td>\n",
       "      <td>Valid</td>\n",
       "      <td>L5</td>\n",
       "      <td>0.0</td>\n",
       "      <td>1880-01-01</td>\n",
       "      <td>50.77500</td>\n",
       "      <td>6.08333</td>\n",
       "      <td>[0, 0]</td>\n",
       "    </tr>\n",
       "    <tr>\n",
       "      <th>1</th>\n",
       "      <td>Aarhus</td>\n",
       "      <td>2</td>\n",
       "      <td>Valid</td>\n",
       "      <td>H6</td>\n",
       "      <td>0.0</td>\n",
       "      <td>1951-01-01</td>\n",
       "      <td>56.18333</td>\n",
       "      <td>10.23333</td>\n",
       "      <td>[0, 0]</td>\n",
       "    </tr>\n",
       "    <tr>\n",
       "      <th>2</th>\n",
       "      <td>Abee</td>\n",
       "      <td>6</td>\n",
       "      <td>Valid</td>\n",
       "      <td>EH4</td>\n",
       "      <td>0.0</td>\n",
       "      <td>1952-01-01</td>\n",
       "      <td>54.21667</td>\n",
       "      <td>-113.00000</td>\n",
       "      <td>[0, 0]</td>\n",
       "    </tr>\n",
       "    <tr>\n",
       "      <th>3</th>\n",
       "      <td>Acapulco</td>\n",
       "      <td>10</td>\n",
       "      <td>Valid</td>\n",
       "      <td>Acapulcoite</td>\n",
       "      <td>0.0</td>\n",
       "      <td>1976-01-01</td>\n",
       "      <td>16.88333</td>\n",
       "      <td>-99.90000</td>\n",
       "      <td>[0, 0]</td>\n",
       "    </tr>\n",
       "    <tr>\n",
       "      <th>4</th>\n",
       "      <td>Achiras</td>\n",
       "      <td>370</td>\n",
       "      <td>Valid</td>\n",
       "      <td>L6</td>\n",
       "      <td>0.0</td>\n",
       "      <td>1902-01-01</td>\n",
       "      <td>-33.16667</td>\n",
       "      <td>-64.95000</td>\n",
       "      <td>[0, 0]</td>\n",
       "    </tr>\n",
       "  </tbody>\n",
       "</table>\n",
       "</div>"
      ],
      "text/plain": [
       "       name   id nametype     recclass  mass        year    reclat    reclong  \\\n",
       "0    Aachen    1    Valid           L5   0.0  1880-01-01  50.77500    6.08333   \n",
       "1    Aarhus    2    Valid           H6   0.0  1951-01-01  56.18333   10.23333   \n",
       "2      Abee    6    Valid          EH4   0.0  1952-01-01  54.21667 -113.00000   \n",
       "3  Acapulco   10    Valid  Acapulcoite   0.0  1976-01-01  16.88333  -99.90000   \n",
       "4   Achiras  370    Valid           L6   0.0  1902-01-01 -33.16667  -64.95000   \n",
       "\n",
       "  coordinates  \n",
       "0      [0, 0]  \n",
       "1      [0, 0]  \n",
       "2      [0, 0]  \n",
       "3      [0, 0]  \n",
       "4      [0, 0]  "
      ]
     },
     "execution_count": 3,
     "metadata": {},
     "output_type": "execute_result"
    }
   ],
   "source": [
    "df.head()"
   ]
  },
  {
   "cell_type": "code",
   "execution_count": 5,
   "id": "5cbb683b",
   "metadata": {},
   "outputs": [],
   "source": [
    "# Get all the Earth meteorites that fell before the year 2000\n",
    "# Convert the 'year' column to integer type\n",
    "df['year'] = pd.to_numeric(df['year'], errors='coerce')\n",
    "earth_meteorites_before_2000 = df[df[\"year\"] < 2000]"
   ]
  },
  {
   "cell_type": "code",
   "execution_count": 6,
   "id": "a1569357",
   "metadata": {},
   "outputs": [
    {
     "data": {
      "text/html": [
       "<div>\n",
       "<style scoped>\n",
       "    .dataframe tbody tr th:only-of-type {\n",
       "        vertical-align: middle;\n",
       "    }\n",
       "\n",
       "    .dataframe tbody tr th {\n",
       "        vertical-align: top;\n",
       "    }\n",
       "\n",
       "    .dataframe thead th {\n",
       "        text-align: right;\n",
       "    }\n",
       "</style>\n",
       "<table border=\"1\" class=\"dataframe\">\n",
       "  <thead>\n",
       "    <tr style=\"text-align: right;\">\n",
       "      <th></th>\n",
       "      <th>name</th>\n",
       "      <th>id</th>\n",
       "      <th>nametype</th>\n",
       "      <th>recclass</th>\n",
       "      <th>mass</th>\n",
       "      <th>year</th>\n",
       "      <th>reclat</th>\n",
       "      <th>reclong</th>\n",
       "      <th>coordinates</th>\n",
       "    </tr>\n",
       "  </thead>\n",
       "  <tbody>\n",
       "  </tbody>\n",
       "</table>\n",
       "</div>"
      ],
      "text/plain": [
       "Empty DataFrame\n",
       "Columns: [name, id, nametype, recclass, mass, year, reclat, reclong, coordinates]\n",
       "Index: []"
      ]
     },
     "execution_count": 6,
     "metadata": {},
     "output_type": "execute_result"
    }
   ],
   "source": [
    "earth_meteorites_before_2000"
   ]
  },
  {
   "cell_type": "code",
   "execution_count": 7,
   "id": "faca9717",
   "metadata": {},
   "outputs": [],
   "source": [
    "# Get all the Earth meteorites' coordinates that fell before the year 1970\n",
    "earth_meteorites_coords_before_1970 = df[df[\"year\"] < 1970][[\"reclat\", \"reclong\"]]"
   ]
  },
  {
   "cell_type": "code",
   "execution_count": 9,
   "id": "ea3bdac9",
   "metadata": {},
   "outputs": [
    {
     "data": {
      "text/html": [
       "<div>\n",
       "<style scoped>\n",
       "    .dataframe tbody tr th:only-of-type {\n",
       "        vertical-align: middle;\n",
       "    }\n",
       "\n",
       "    .dataframe tbody tr th {\n",
       "        vertical-align: top;\n",
       "    }\n",
       "\n",
       "    .dataframe thead th {\n",
       "        text-align: right;\n",
       "    }\n",
       "</style>\n",
       "<table border=\"1\" class=\"dataframe\">\n",
       "  <thead>\n",
       "    <tr style=\"text-align: right;\">\n",
       "      <th></th>\n",
       "      <th>reclat</th>\n",
       "      <th>reclong</th>\n",
       "    </tr>\n",
       "  </thead>\n",
       "  <tbody>\n",
       "  </tbody>\n",
       "</table>\n",
       "</div>"
      ],
      "text/plain": [
       "Empty DataFrame\n",
       "Columns: [reclat, reclong]\n",
       "Index: []"
      ]
     },
     "execution_count": 9,
     "metadata": {},
     "output_type": "execute_result"
    }
   ],
   "source": [
    "earth_meteorites_coords_before_1970"
   ]
  },
  {
   "cell_type": "code",
   "execution_count": 8,
   "id": "82c519ea",
   "metadata": {},
   "outputs": [],
   "source": [
    "# Convert the 'mass' column to numeric type\n",
    "df['mass'] = pd.to_numeric(df['mass'], errors='coerce')"
   ]
  },
  {
   "cell_type": "code",
   "execution_count": 10,
   "id": "0b85d451",
   "metadata": {},
   "outputs": [],
   "source": [
    "# Get all the Earth meteorites whose mass was more than 10000kg (assuming mass is in kg)\n",
    "earth_meteorites_mass_above_10000kg = df[df[\"mass\"] > 10000]"
   ]
  },
  {
   "cell_type": "code",
   "execution_count": 14,
   "id": "2d4bb646",
   "metadata": {},
   "outputs": [
    {
     "data": {
      "text/plain": [
       "<Figure size 1200x600 with 0 Axes>"
      ]
     },
     "execution_count": 14,
     "metadata": {},
     "output_type": "execute_result"
    },
    {
     "data": {
      "text/plain": [
       "<Figure size 1200x600 with 0 Axes>"
      ]
     },
     "metadata": {},
     "output_type": "display_data"
    }
   ],
   "source": [
    "# Create the plots to visualize the insights\n",
    "plt.figure(figsize=(12, 6))"
   ]
  },
  {
   "cell_type": "code",
   "execution_count": 12,
   "id": "fd76c6a6",
   "metadata": {},
   "outputs": [
    {
     "data": {
      "text/plain": [
       "Text(0, 0.5, 'Count')"
      ]
     },
     "execution_count": 12,
     "metadata": {},
     "output_type": "execute_result"
    },
    {
     "data": {
      "image/png": "[encoded data removed]",
      "text/plain": [
       "<Figure size 640x480 with 1 Axes>"
      ]
     },
     "metadata": {},
     "output_type": "display_data"
    }
   ],
   "source": [
    "# Plot 1: Earth meteorites that fell before the year 2000\n",
    "plt.subplot(131)\n",
    "plt.hist(earth_meteorites_before_2000[\"year\"], bins=30, edgecolor=\"black\")\n",
    "plt.title(\"Earth Meteorites Before 2000\")\n",
    "plt.xlabel(\"Year\")\n",
    "plt.ylabel(\"Count\")\n"
   ]
  },
  {
   "cell_type": "code",
   "execution_count": 15,
   "id": "8951c3e9",
   "metadata": {},
   "outputs": [
    {
     "data": {
      "text/plain": [
       "Text(0, 0.5, 'Latitude')"
      ]
     },
     "execution_count": 15,
     "metadata": {},
     "output_type": "execute_result"
    },
    {
     "data": {
      "image/png": "[encoded data removed]",
      "text/plain": [
       "<Figure size 640x480 with 1 Axes>"
      ]
     },
     "metadata": {},
     "output_type": "display_data"
    }
   ],
   "source": [
    "# Plot 2: Earth meteorites' coordinates that fell before the year 1970\n",
    "plt.subplot(132)\n",
    "plt.scatter(earth_meteorites_coords_before_1970[\"reclong\"], earth_meteorites_coords_before_1970[\"reclat\"], s=10)\n",
    "plt.title(\"Earth Meteorites' Coordinates Before 1970\")\n",
    "plt.xlabel(\"Longitude\")\n",
    "plt.ylabel(\"Latitude\")"
   ]
  },
  {
   "cell_type": "code",
   "execution_count": 16,
   "id": "b7e5aa44",
   "metadata": {},
   "outputs": [
    {
     "data": {
      "text/plain": [
       "Text(0, 0.5, 'Mass (kg)')"
      ]
     },
     "execution_count": 16,
     "metadata": {},
     "output_type": "execute_result"
    },
    {
     "data": {
      "image/png": "[encoded data removed]",
      "text/plain": [
       "<Figure size 640x480 with 1 Axes>"
      ]
     },
     "metadata": {},
     "output_type": "display_data"
    }
   ],
   "source": [
    "# Plot 3: Earth meteorites whose mass was more than 10000kg\n",
    "plt.subplot(133)\n",
    "plt.boxplot(earth_meteorites_mass_above_10000kg[\"mass\"])\n",
    "plt.title(\"Earth Meteorites with Mass > 10000kg\")\n",
    "plt.ylabel(\"Mass (kg)\")"
   ]
  },
  {
   "cell_type": "code",
   "execution_count": 17,
   "id": "48ad97b6",
   "metadata": {},
   "outputs": [
    {
     "data": {
      "text/plain": [
       "<Figure size 640x480 with 0 Axes>"
      ]
     },
     "metadata": {},
     "output_type": "display_data"
    }
   ],
   "source": [
    "plt.tight_layout()\n",
    "plt.show()"
   ]
  },
  {
   "cell_type": "code",
   "execution_count": null,
   "id": "75811c34",
   "metadata": {},
   "outputs": [],
   "source": []
  }
 ],
 "metadata": {
  "kernelspec": {
   "display_name": "shobhandeb",
   "language": "python",
   "name": "shobhandeb"
  },
  "language_info": {
   "codemirror_mode": {
    "name": "ipython",
    "version": 3
   },
   "file_extension": ".py",
   "mimetype": "text/x-python",
   "name": "python",
   "nbconvert_exporter": "python",
   "pygments_lexer": "ipython3",
   "version": "3.10.9"
  }
 },
 "nbformat": 4,
 "nbformat_minor": 5
}
