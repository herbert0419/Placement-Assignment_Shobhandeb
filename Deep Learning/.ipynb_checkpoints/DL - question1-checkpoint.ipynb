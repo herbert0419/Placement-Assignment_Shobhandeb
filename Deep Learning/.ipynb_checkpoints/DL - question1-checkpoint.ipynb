{
 "cells": [
  {
   "cell_type": "code",
   "execution_count": 1,
   "id": "b8885e34",
   "metadata": {},
   "outputs": [],
   "source": [
    "import tensorflow as tf\n",
    "from tensorflow.keras.datasets import mnist\n",
    "from tensorflow.keras.models import Sequential\n",
    "from tensorflow.keras.layers import Conv2D, MaxPooling2D, Flatten, Dense"
   ]
  },
  {
   "cell_type": "code",
   "execution_count": 2,
   "id": "c1436c08",
   "metadata": {},
   "outputs": [
    {
     "name": "stdout",
     "output_type": "stream",
     "text": [
      "Downloading data from https://storage.googleapis.com/tensorflow/tf-keras-datasets/mnist.npz\n",
      "11490434/11490434 [==============================] - 3s 0us/step\n"
     ]
    }
   ],
   "source": [
    "# Load the MNIST dataset\n",
    "(x_train, y_train), (x_test, y_test) = mnist.load_data()"
   ]
  },
  {
   "cell_type": "code",
   "execution_count": 3,
   "id": "c376e7bc",
   "metadata": {},
   "outputs": [],
   "source": [
    "# Preprocess the data\n",
    "x_train = x_train.reshape(-1, 28, 28, 1).astype('float32') / 255.0\n",
    "x_test = x_test.reshape(-1, 28, 28, 1).astype('float32') / 255.0"
   ]
  },
  {
   "cell_type": "code",
   "execution_count": 4,
   "id": "3985e506",
   "metadata": {},
   "outputs": [],
   "source": [
    "# Define the first CNN architecture\n",
    "model1 = Sequential([\n",
    "    Conv2D(16, (3, 3), activation='relu', input_shape=(28, 28, 1)),\n",
    "    MaxPooling2D((2, 2)),\n",
    "    Flatten(),\n",
    "    Dense(128, activation='relu'),\n",
    "    Dense(10, activation='softmax')\n",
    "])"
   ]
  },
  {
   "cell_type": "code",
   "execution_count": 5,
   "id": "cfa6f6f2",
   "metadata": {},
   "outputs": [],
   "source": [
    "# Define the second CNN architecture\n",
    "model2 = Sequential([\n",
    "    Conv2D(8, (3, 3), activation='relu', input_shape=(28, 28, 1)),\n",
    "    MaxPooling2D((2, 2)),\n",
    "    Conv2D(16, (3, 3), activation='relu'),\n",
    "    MaxPooling2D((2, 2)),\n",
    "    Flatten(),\n",
    "    Dense(128, activation='relu'),\n",
    "    Dense(10, activation='softmax')\n",
    "])"
   ]
  },
  {
   "cell_type": "code",
   "execution_count": 7,
   "id": "a1a1b8b2",
   "metadata": {},
   "outputs": [],
   "source": [
    "# Define the third CNN architecture\n",
    "model3 = Sequential([\n",
    "    Conv2D(16, (3, 3), activation='relu', input_shape=(28, 28, 1)),\n",
    "    MaxPooling2D((2, 2)),\n",
    "    Conv2D(32, (3, 3), activation='relu'),\n",
    "    MaxPooling2D((2, 2)),\n",
    "    Flatten(),\n",
    "    Dense(128, activation='relu'),\n",
    "    Dense(10, activation='softmax')\n",
    "])"
   ]
  },
  {
   "cell_type": "code",
   "execution_count": 8,
   "id": "a2835e70",
   "metadata": {},
   "outputs": [],
   "source": [
    "# Compile the models\n",
    "model1.compile(optimizer='adam', loss='sparse_categorical_crossentropy', metrics=['accuracy'])\n",
    "model2.compile(optimizer='adam', loss='sparse_categorical_crossentropy', metrics=['accuracy'])\n",
    "model3.compile(optimizer='adam', loss='sparse_categorical_crossentropy', metrics=['accuracy'])"
   ]
  },
  {
   "cell_type": "code",
   "execution_count": 15,
   "id": "d1d85e92",
   "metadata": {},
   "outputs": [
    {
     "name": "stdout",
     "output_type": "stream",
     "text": [
      "Epoch 1/10\n",
      "1875/1875 [==============================] - 31s 16ms/step - loss: 0.1682 - accuracy: 0.9506 - val_loss: 0.0619 - val_accuracy: 0.9805\n",
      "Epoch 2/10\n",
      "1875/1875 [==============================] - 28s 15ms/step - loss: 0.0553 - accuracy: 0.9830 - val_loss: 0.0586 - val_accuracy: 0.9796\n",
      "Epoch 3/10\n",
      "1875/1875 [==============================] - 28s 15ms/step - loss: 0.0370 - accuracy: 0.9887 - val_loss: 0.0400 - val_accuracy: 0.9855\n",
      "Epoch 4/10\n",
      "1875/1875 [==============================] - 28s 15ms/step - loss: 0.0256 - accuracy: 0.9917 - val_loss: 0.0491 - val_accuracy: 0.9825\n",
      "Epoch 5/10\n",
      "1875/1875 [==============================] - 29s 16ms/step - loss: 0.0173 - accuracy: 0.9947 - val_loss: 0.0449 - val_accuracy: 0.9861\n",
      "Epoch 6/10\n",
      "1875/1875 [==============================] - 28s 15ms/step - loss: 0.0131 - accuracy: 0.9960 - val_loss: 0.0481 - val_accuracy: 0.9854\n",
      "Epoch 7/10\n",
      "1875/1875 [==============================] - 28s 15ms/step - loss: 0.0102 - accuracy: 0.9967 - val_loss: 0.0446 - val_accuracy: 0.9872\n",
      "Epoch 8/10\n",
      "1875/1875 [==============================] - 27s 15ms/step - loss: 0.0070 - accuracy: 0.9979 - val_loss: 0.0465 - val_accuracy: 0.9866\n",
      "Epoch 9/10\n",
      "1875/1875 [==============================] - 28s 15ms/step - loss: 0.0071 - accuracy: 0.9978 - val_loss: 0.0481 - val_accuracy: 0.9862\n",
      "Epoch 10/10\n",
      "1875/1875 [==============================] - 28s 15ms/step - loss: 0.0045 - accuracy: 0.9984 - val_loss: 0.0576 - val_accuracy: 0.9852\n",
      "Epoch 1/10\n",
      "1875/1875 [==============================] - 24s 13ms/step - loss: 0.1917 - accuracy: 0.9420 - val_loss: 0.0709 - val_accuracy: 0.9780\n",
      "Epoch 2/10\n",
      "1875/1875 [==============================] - 26s 14ms/step - loss: 0.0624 - accuracy: 0.9810 - val_loss: 0.0550 - val_accuracy: 0.9821\n",
      "Epoch 3/10\n",
      "1875/1875 [==============================] - 23s 12ms/step - loss: 0.0445 - accuracy: 0.9863 - val_loss: 0.0418 - val_accuracy: 0.9858\n",
      "Epoch 4/10\n",
      "1875/1875 [==============================] - 24s 13ms/step - loss: 0.0333 - accuracy: 0.9898 - val_loss: 0.0341 - val_accuracy: 0.9883\n",
      "Epoch 5/10\n",
      "1875/1875 [==============================] - 29s 16ms/step - loss: 0.0289 - accuracy: 0.9906 - val_loss: 0.0345 - val_accuracy: 0.9871\n",
      "Epoch 6/10\n",
      "1875/1875 [==============================] - 26s 14ms/step - loss: 0.0215 - accuracy: 0.9933 - val_loss: 0.0333 - val_accuracy: 0.9894\n",
      "Epoch 7/10\n",
      "1875/1875 [==============================] - 27s 14ms/step - loss: 0.0171 - accuracy: 0.9943 - val_loss: 0.0380 - val_accuracy: 0.9879\n",
      "Epoch 8/10\n",
      "1875/1875 [==============================] - 25s 14ms/step - loss: 0.0157 - accuracy: 0.9948 - val_loss: 0.0416 - val_accuracy: 0.9872\n",
      "Epoch 9/10\n",
      "1875/1875 [==============================] - 25s 14ms/step - loss: 0.0118 - accuracy: 0.9960 - val_loss: 0.0377 - val_accuracy: 0.9891\n",
      "Epoch 10/10\n",
      "1875/1875 [==============================] - 28s 15ms/step - loss: 0.0111 - accuracy: 0.9962 - val_loss: 0.0401 - val_accuracy: 0.9893\n",
      "Epoch 1/10\n",
      "1875/1875 [==============================] - 38s 20ms/step - loss: 0.1501 - accuracy: 0.9552 - val_loss: 0.0608 - val_accuracy: 0.9805\n",
      "Epoch 2/10\n",
      "1875/1875 [==============================] - 33s 18ms/step - loss: 0.0488 - accuracy: 0.9846 - val_loss: 0.0412 - val_accuracy: 0.9869\n",
      "Epoch 3/10\n",
      "1875/1875 [==============================] - 45s 24ms/step - loss: 0.0343 - accuracy: 0.9889 - val_loss: 0.0346 - val_accuracy: 0.9896\n",
      "Epoch 4/10\n",
      "1875/1875 [==============================] - 45s 24ms/step - loss: 0.0252 - accuracy: 0.9923 - val_loss: 0.0278 - val_accuracy: 0.9919\n",
      "Epoch 5/10\n",
      "1875/1875 [==============================] - 42s 22ms/step - loss: 0.0200 - accuracy: 0.9936 - val_loss: 0.0314 - val_accuracy: 0.9902\n",
      "Epoch 6/10\n",
      "1875/1875 [==============================] - 35s 19ms/step - loss: 0.0145 - accuracy: 0.9953 - val_loss: 0.0310 - val_accuracy: 0.9916\n",
      "Epoch 7/10\n",
      "1875/1875 [==============================] - 35s 19ms/step - loss: 0.0125 - accuracy: 0.9959 - val_loss: 0.0294 - val_accuracy: 0.9924\n",
      "Epoch 8/10\n",
      "1875/1875 [==============================] - 39s 21ms/step - loss: 0.0096 - accuracy: 0.9967 - val_loss: 0.0375 - val_accuracy: 0.9900\n",
      "Epoch 9/10\n",
      "1875/1875 [==============================] - 37s 20ms/step - loss: 0.0090 - accuracy: 0.9966 - val_loss: 0.0311 - val_accuracy: 0.9920\n",
      "Epoch 10/10\n",
      "1875/1875 [==============================] - 37s 20ms/step - loss: 0.0069 - accuracy: 0.9976 - val_loss: 0.0388 - val_accuracy: 0.9913\n"
     ]
    },
    {
     "data": {
      "text/plain": [
       "<keras.callbacks.History at 0x2ad607bf7c0>"
      ]
     },
     "execution_count": 15,
     "metadata": {},
     "output_type": "execute_result"
    }
   ],
   "source": [
    "# Train the models\n",
    "model1.fit(x_train, y_train, epochs=10, batch_size=32, validation_data=(x_test, y_test))\n",
    "model2.fit(x_train, y_train, epochs=10, batch_size=32, validation_data=(x_test, y_test))\n",
    "model3.fit(x_train, y_train, epochs=10, batch_size=32, validation_data=(x_test, y_test))"
   ]
  },
  {
   "cell_type": "code",
   "execution_count": 16,
   "id": "561a9f26",
   "metadata": {},
   "outputs": [
    {
     "name": "stdout",
     "output_type": "stream",
     "text": [
      "313/313 [==============================] - 2s 7ms/step - loss: 0.0576 - accuracy: 0.9852\n",
      "313/313 [==============================] - 2s 8ms/step - loss: 0.0401 - accuracy: 0.9893\n",
      "313/313 [==============================] - 2s 7ms/step - loss: 0.0388 - accuracy: 0.9913\n"
     ]
    }
   ],
   "source": [
    "# Evaluate the models\n",
    "score1 = model1.evaluate(x_test, y_test)\n",
    "score2 = model2.evaluate(x_test, y_test)\n",
    "score3 = model3.evaluate(x_test, y_test)"
   ]
  },
  {
   "cell_type": "code",
   "execution_count": 17,
   "id": "826ec0d1",
   "metadata": {},
   "outputs": [
    {
     "name": "stdout",
     "output_type": "stream",
     "text": [
      "[0.057628098875284195, 0.9851999878883362]\n",
      "[0.040052540600299835, 0.989300012588501]\n",
      "[0.03878360986709595, 0.9912999868392944]\n"
     ]
    }
   ],
   "source": [
    "print(score1)\n",
    "print(score2)\n",
    "print(score3)"
   ]
  },
  {
   "cell_type": "code",
   "execution_count": 18,
   "id": "ec8622cb",
   "metadata": {},
   "outputs": [],
   "source": [
    "# Create a comparison table\n",
    "table = '''\n",
    "| Model Architecture | Parameters | Accuracy |\n",
    "|--------------------|------------|----------|\n",
    "|       Model 1      |   <params> |  <acc>%  |\n",
    "|       Model 2      |   <params> |  <acc>%  |\n",
    "|       Model 3      |   <params> |  <acc>%  |\n",
    "'''"
   ]
  },
  {
   "cell_type": "code",
   "execution_count": 19,
   "id": "6b2d2607",
   "metadata": {},
   "outputs": [],
   "source": [
    "# Print the comparison table with actual values\n",
    "table = table.replace('<params>', str(model1.count_params())).replace('<acc>', str(score1[1] * 100))\n",
    "table = table.replace('<params>', str(model2.count_params()))"
   ]
  },
  {
   "cell_type": "code",
   "execution_count": 20,
   "id": "82f47d8a",
   "metadata": {},
   "outputs": [
    {
     "data": {
      "text/plain": [
       "'\\n| Model Architecture | Parameters | Accuracy |\\n|--------------------|------------|----------|\\n|       Model 1      |   347690 |  98.51999878883362%  |\\n|       Model 2      |   347690 |  98.51999878883362%  |\\n|       Model 3      |   347690 |  98.51999878883362%  |\\n'"
      ]
     },
     "execution_count": 20,
     "metadata": {},
     "output_type": "execute_result"
    }
   ],
   "source": [
    "table"
   ]
  },
  {
   "cell_type": "code",
   "execution_count": null,
   "id": "b34497ee",
   "metadata": {},
   "outputs": [],
   "source": []
  }
 ],
 "metadata": {
  "kernelspec": {
   "display_name": "shobhandeb",
   "language": "python",
   "name": "shobhandeb"
  },
  "language_info": {
   "codemirror_mode": {
    "name": "ipython",
    "version": 3
   },
   "file_extension": ".py",
   "mimetype": "text/x-python",
   "name": "python",
   "nbconvert_exporter": "python",
   "pygments_lexer": "ipython3",
   "version": "3.10.9"
  }
 },
 "nbformat": 4,
 "nbformat_minor": 5
}
