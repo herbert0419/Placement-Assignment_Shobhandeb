{
 "cells": [
  {
   "cell_type": "code",
   "execution_count": 1,
   "id": "87be7144",
   "metadata": {},
   "outputs": [],
   "source": [
    "import tensorflow as tf\n",
    "from tensorflow.keras.datasets import mnist\n",
    "from tensorflow.keras.models import Sequential\n",
    "from tensorflow.keras.layers import Conv2D, MaxPooling2D, Flatten, Dense"
   ]
  },
  {
   "cell_type": "code",
   "execution_count": 2,
   "id": "c1d7a6cb",
   "metadata": {},
   "outputs": [
    {
     "name": "stdout",
     "output_type": "stream",
     "text": [
      "Downloading data from https://storage.googleapis.com/tensorflow/tf-keras-datasets/mnist.npz\n",
      "11490434/11490434 [==============================] - 3s 0us/step\n"
     ]
    }
   ],
   "source": [
    "# Load the MNIST dataset\n",
    "(x_train, y_train), (x_test, y_test) = mnist.load_data()"
   ]
  },
  {
   "cell_type": "code",
   "execution_count": 3,
   "id": "7494afbc",
   "metadata": {},
   "outputs": [],
   "source": [
    "# Preprocess the data\n",
    "x_train = x_train.reshape(-1, 28, 28, 1).astype('float32') / 255.0\n",
    "x_test = x_test.reshape(-1, 28, 28, 1).astype('float32') / 255.0"
   ]
  },
  {
   "cell_type": "code",
   "execution_count": 4,
   "id": "b0e4a76c",
   "metadata": {},
   "outputs": [],
   "source": [
    "# Define the first CNN architecture\n",
    "model1 = Sequential([\n",
    "    Conv2D(16, (3, 3), activation='relu', input_shape=(28, 28, 1)),\n",
    "    MaxPooling2D((2, 2)),\n",
    "    Flatten(),\n",
    "    Dense(128, activation='relu'),\n",
    "    Dense(10, activation='softmax')\n",
    "])"
   ]
  },
  {
   "cell_type": "code",
   "execution_count": 5,
   "id": "dbda76b4",
   "metadata": {},
   "outputs": [],
   "source": [
    "# Define the second CNN architecture\n",
    "model2 = Sequential([\n",
    "    Conv2D(8, (3, 3), activation='relu', input_shape=(28, 28, 1)),\n",
    "    MaxPooling2D((2, 2)),\n",
    "    Conv2D(16, (3, 3), activation='relu'),\n",
    "    MaxPooling2D((2, 2)),\n",
    "    Flatten(),\n",
    "    Dense(128, activation='relu'),\n",
    "    Dense(10, activation='softmax')\n",
    "])"
   ]
  },
  {
   "cell_type": "code",
   "execution_count": 7,
   "id": "7be9dc09",
   "metadata": {},
   "outputs": [],
   "source": [
    "# Define the third CNN architecture\n",
    "model3 = Sequential([\n",
    "    Conv2D(16, (3, 3), activation='relu', input_shape=(28, 28, 1)),\n",
    "    MaxPooling2D((2, 2)),\n",
    "    Conv2D(32, (3, 3), activation='relu'),\n",
    "    MaxPooling2D((2, 2)),\n",
    "    Flatten(),\n",
    "    Dense(128, activation='relu'),\n",
    "    Dense(10, activation='softmax')\n",
    "])"
   ]
  },
  {
   "cell_type": "code",
   "execution_count": 8,
   "id": "bfa34de2",
   "metadata": {},
   "outputs": [],
   "source": [
    "# Compile the models\n",
    "model1.compile(optimizer='adam', loss='sparse_categorical_crossentropy', metrics=['accuracy'])\n",
    "model2.compile(optimizer='adam', loss='sparse_categorical_crossentropy', metrics=['accuracy'])\n",
    "model3.compile(optimizer='adam', loss='sparse_categorical_crossentropy', metrics=['accuracy'])"
   ]
  },
  {
   "cell_type": "code",
   "execution_count": 9,
   "id": "0695f3d0",
   "metadata": {},
   "outputs": [
    {
     "name": "stdout",
     "output_type": "stream",
     "text": [
      "313/313 [==============================] - 3s 6ms/step - loss: 2.2955 - accuracy: 0.1322\n",
      "313/313 [==============================] - 2s 7ms/step - loss: 2.3171 - accuracy: 0.0858\n",
      "313/313 [==============================] - 2s 6ms/step - loss: 2.3152 - accuracy: 0.0954\n"
     ]
    }
   ],
   "source": [
    "# Evaluate the models\n",
    "score1 = model1.evaluate(x_test, y_test)\n",
    "score2 = model2.evaluate(x_test, y_test)\n",
    "score3 = model3.evaluate(x_test, y_test)"
   ]
  },
  {
   "cell_type": "code",
   "execution_count": 10,
   "id": "8f37e268",
   "metadata": {},
   "outputs": [],
   "source": [
    "# Create a comparison table\n",
    "table = '''\n",
    "| Model Architecture | Parameters | Accuracy |\n",
    "|--------------------|------------|----------|\n",
    "|       Model 1      |   <params> |  <acc>%  |\n",
    "|       Model 2      |   <params> |  <acc>%  |\n",
    "|       Model 3      |   <params> |  <acc>%  |\n",
    "'''"
   ]
  },
  {
   "cell_type": "code",
   "execution_count": 12,
   "id": "ebd513e9",
   "metadata": {},
   "outputs": [],
   "source": [
    "# Print the comparison table with actual values\n",
    "table = table.replace('<params>', str(model1.count_params())).replace('<acc>', str(score1[1] * 100))\n",
    "table = table.replace('<params>', str(model2.count_params()))"
   ]
  },
  {
   "cell_type": "code",
   "execution_count": 13,
   "id": "0657a007",
   "metadata": {},
   "outputs": [
    {
     "data": {
      "text/plain": [
       "'\\n| Model Architecture | Parameters | Accuracy |\\n|--------------------|------------|----------|\\n|       Model 1      |   347690 |  13.220000267028809%  |\\n|       Model 2      |   347690 |  13.220000267028809%  |\\n|       Model 3      |   347690 |  13.220000267028809%  |\\n'"
      ]
     },
     "execution_count": 13,
     "metadata": {},
     "output_type": "execute_result"
    }
   ],
   "source": [
    "table"
   ]
  },
  {
   "cell_type": "code",
   "execution_count": null,
   "id": "36ef6f57",
   "metadata": {},
   "outputs": [],
   "source": []
  }
 ],
 "metadata": {
  "kernelspec": {
   "display_name": "shobhandeb",
   "language": "python",
   "name": "shobhandeb"
  },
  "language_info": {
   "codemirror_mode": {
    "name": "ipython",
    "version": 3
   },
   "file_extension": ".py",
   "mimetype": "text/x-python",
   "name": "python",
   "nbconvert_exporter": "python",
   "pygments_lexer": "ipython3",
   "version": "3.10.9"
  }
 },
 "nbformat": 4,
 "nbformat_minor": 5
}
